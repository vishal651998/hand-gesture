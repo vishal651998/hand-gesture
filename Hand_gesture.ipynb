{
 "cells": [
  {
   "cell_type": "code",
   "execution_count": 9,
   "metadata": {},
   "outputs": [
    {
     "ename": "SyntaxError",
     "evalue": "invalid syntax (<ipython-input-9-98fe1d506234>, line 5)",
     "output_type": "error",
     "traceback": [
      "\u001b[1;36m  File \u001b[1;32m\"<ipython-input-9-98fe1d506234>\"\u001b[1;36m, line \u001b[1;32m5\u001b[0m\n\u001b[1;33m    int r\u001b[0m\n\u001b[1;37m        ^\u001b[0m\n\u001b[1;31mSyntaxError\u001b[0m\u001b[1;31m:\u001b[0m invalid syntax\n"
     ]
    }
   ],
   "source": [
    "import cv2\n",
    "import numpy as np\n",
    "hand = cv2.imread('capture.JPEG', 0)\n",
    "ret, the = cv2.threshold(hand, 70,255, cv2.THRESH_BINARY)\n",
    "int r\n",
    "_,contours,_= cv2.findContours(the.r(), cv2.RETR_TREE, cv2.CHAIN_APPROX_SIMPLE)\n",
    "\n",
    "hull = [cv2.convexHull(c) for c in contours]\n",
    "final = cv2.drawContours(hand, hull, -1, (255,0,0))\n",
    "\n",
    "cv2.imshow('Original image', hand)\n",
    "cv2.imshow('Thresh',the)\n",
    "cv2.imshow('Convex hull', final)\n",
    "\n",
    "cv2.waitKey(o)\n",
    "cv2.destroyAllWindows()\n"
   ]
  },
  {
   "cell_type": "code",
   "execution_count": null,
   "metadata": {},
   "outputs": [],
   "source": []
  },
  {
   "cell_type": "code",
   "execution_count": null,
   "metadata": {},
   "outputs": [],
   "source": []
  }
 ],
 "metadata": {
  "kernelspec": {
   "display_name": "Python 3",
   "language": "python",
   "name": "python3"
  },
  "language_info": {
   "codemirror_mode": {
    "name": "ipython",
    "version": 3
   },
   "file_extension": ".py",
   "mimetype": "text/x-python",
   "name": "python",
   "nbconvert_exporter": "python",
   "pygments_lexer": "ipython3",
   "version": "3.7.3"
  }
 },
 "nbformat": 4,
 "nbformat_minor": 2
}
